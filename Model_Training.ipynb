{
 "cells": [
  {
   "cell_type": "markdown",
   "id": "57dd27cb-7422-4947-a525-83cd30c1ad70",
   "metadata": {},
   "source": [
    "## Model Training\n",
    "### Tasks including -\n",
    "- **Train a Model:** Use a dataset (like ```MNIST```) to train your 3-layer deep network.\n",
    "- **Save the Model:** Save the trained model to a file.\n",
    "- **Test the Model Accuracy:** Test the accuracy of the Model."
   ]
  },
  {
   "cell_type": "markdown",
   "id": "33075b2e-2251-4689-8505-78bc551f4799",
   "metadata": {},
   "source": [
    "<hr>"
   ]
  },
  {
   "cell_type": "markdown",
   "id": "6e7b124d-e28e-4e88-8224-f256a6849418",
   "metadata": {},
   "source": [
    "### Importing the Libraries"
   ]
  },
  {
   "cell_type": "code",
   "execution_count": 3,
   "id": "43c6e19f-13bc-4a7e-91c2-897a7d9317f8",
   "metadata": {
    "tags": []
   },
   "outputs": [],
   "source": [
    "import os\n",
    "import tensorflow as tf\n",
    "from tensorflow.keras.models import Sequential\n",
    "from tensorflow.keras.layers import Dense, Flatten, Input\n",
    "from tensorflow.keras.datasets import mnist\n",
    "from tensorflow.keras.utils import to_categorical"
   ]
  },
  {
   "cell_type": "markdown",
   "id": "cf6c1011-fb94-4e08-b95d-fa2d872e3d9d",
   "metadata": {
    "tags": []
   },
   "source": [
    "### Handle GPU Issues (Optional)\n",
    "This step is in response of error indicates a problem with the GPU setup, specifically with CUDA, which TensorFlow uses for GPU acceleration. The error ```UNKNOWN ERROR (303)``` suggests that TensorFlow is unable to initialize CUDA. To solve this issue this step is initialized here. __*It's Optional!*__"
   ]
  },
  {
   "cell_type": "code",
   "execution_count": 5,
   "id": "1d364b1b-0249-4b50-92de-d5a741e95600",
   "metadata": {
    "tags": []
   },
   "outputs": [
    {
     "name": "stdout",
     "output_type": "stream",
     "text": [
      "TensorFlow is using: CPU\n"
     ]
    }
   ],
   "source": [
    "# If CUDA errors persist, force TensorFlow to use the CPU\n",
    "os.environ[\"CUDA_VISIBLE_DEVICES\"] = \"-1\"  # Comment this out if GPU setup is fixed\n",
    "\n",
    "# Verify if TensorFlow is using the correct device\n",
    "print(\"TensorFlow is using:\", tf.config.list_physical_devices('GPU') or \"CPU\")"
   ]
  },
  {
   "cell_type": "markdown",
   "id": "ec5f41b3-ac86-47de-9ee7-98f02faa47c2",
   "metadata": {},
   "source": [
    "### Load and Preprocess MNIST Data"
   ]
  },
  {
   "cell_type": "code",
   "execution_count": 7,
   "id": "13a3221a-fccf-465d-bf4b-1f05eb422011",
   "metadata": {
    "tags": []
   },
   "outputs": [],
   "source": [
    "# MNIST data loading\n",
    "(X_train, y_train), (X_test, y_test) = mnist.load_data()\n",
    "\n",
    "# Normalize pixel values to [0, 1]\n",
    "X_train = X_train / 255.0\n",
    "X_test = X_test / 255.0\n",
    "\n",
    "# Reshape data to include the channel dimension (samples, 28, 28, 1)\n",
    "X_train = X_train.reshape(-1, 28, 28, 1)\n",
    "X_test = X_test.reshape(-1, 28, 28, 1)\n",
    "\n",
    "# Convert labels to one-hot encoding\n",
    "y_train = to_categorical(y_train, 10)\n",
    "y_test = to_categorical(y_test, 10)"
   ]
  },
  {
   "cell_type": "markdown",
   "id": "f5a8dd24-7dea-448d-acf0-9d2631b17ccb",
   "metadata": {},
   "source": [
    "### Define the 3-Layer Deep Neural Network"
   ]
  },
  {
   "cell_type": "code",
   "execution_count": 8,
   "id": "d0be3f19-5bec-438d-85c7-25c893dcf865",
   "metadata": {
    "tags": []
   },
   "outputs": [],
   "source": [
    "model = Sequential([\n",
    "    Input(shape=(28, 28, 1)),       # Explicit Input layer\n",
    "    Flatten(),                      # Flatten input images to 1D arrays\n",
    "    Dense(128, activation='relu'),  # First hidden layer with 128 neurons\n",
    "    Dense(64, activation='relu'),   # Second hidden layer with 64 neurons\n",
    "    Dense(10, activation='softmax') # Output layer with 10 neurons for digits 0-9\n",
    "])"
   ]
  },
  {
   "cell_type": "markdown",
   "id": "a089ffad-4d55-4bec-9244-3e76b6b967ed",
   "metadata": {},
   "source": [
    "### Compile the Model"
   ]
  },
  {
   "cell_type": "code",
   "execution_count": 9,
   "id": "d9da7cc1-4ecd-4a6c-8c20-581e000fec4f",
   "metadata": {
    "tags": []
   },
   "outputs": [],
   "source": [
    "model.compile(optimizer='adam',                  # Adam optimizer\n",
    "              loss='categorical_crossentropy',   # Loss function for multi-class classification\n",
    "              metrics=['accuracy'])              # Evaluate accuracy during training\n"
   ]
  },
  {
   "cell_type": "markdown",
   "id": "f5a2c0f4-fbb1-41dc-a9d2-7405efce3fda",
   "metadata": {},
   "source": [
    "### Train the Model"
   ]
  },
  {
   "cell_type": "code",
   "execution_count": 10,
   "id": "e1a78663-865f-48fd-92db-b3890e02be4a",
   "metadata": {
    "tags": []
   },
   "outputs": [
    {
     "name": "stderr",
     "output_type": "stream",
     "text": [
      "2024-11-21 17:43:17.468989: W external/local_xla/xla/tsl/framework/cpu_allocator_impl.cc:83] Allocation of 150528000 exceeds 10% of free system memory.\n"
     ]
    },
    {
     "name": "stdout",
     "output_type": "stream",
     "text": [
      "Epoch 1/10\n",
      "\u001b[1m1486/1500\u001b[0m \u001b[32m━━━━━━━━━━━━━━━━━━━\u001b[0m\u001b[37m━\u001b[0m \u001b[1m0s\u001b[0m 2ms/step - accuracy: 0.8633 - loss: 0.4670"
     ]
    },
    {
     "name": "stderr",
     "output_type": "stream",
     "text": [
      "2024-11-21 17:43:21.924396: W external/local_xla/xla/tsl/framework/cpu_allocator_impl.cc:83] Allocation of 37632000 exceeds 10% of free system memory.\n"
     ]
    },
    {
     "name": "stdout",
     "output_type": "stream",
     "text": [
      "\u001b[1m1500/1500\u001b[0m \u001b[32m━━━━━━━━━━━━━━━━━━━━\u001b[0m\u001b[37m\u001b[0m \u001b[1m4s\u001b[0m 2ms/step - accuracy: 0.8639 - loss: 0.4650 - val_accuracy: 0.9597 - val_loss: 0.1358\n",
      "Epoch 2/10\n",
      "\u001b[1m1500/1500\u001b[0m \u001b[32m━━━━━━━━━━━━━━━━━━━━\u001b[0m\u001b[37m\u001b[0m \u001b[1m3s\u001b[0m 2ms/step - accuracy: 0.9657 - loss: 0.1164 - val_accuracy: 0.9654 - val_loss: 0.1137\n",
      "Epoch 3/10\n",
      "\u001b[1m1500/1500\u001b[0m \u001b[32m━━━━━━━━━━━━━━━━━━━━\u001b[0m\u001b[37m\u001b[0m \u001b[1m3s\u001b[0m 2ms/step - accuracy: 0.9775 - loss: 0.0748 - val_accuracy: 0.9685 - val_loss: 0.1045\n",
      "Epoch 4/10\n",
      "\u001b[1m1500/1500\u001b[0m \u001b[32m━━━━━━━━━━━━━━━━━━━━\u001b[0m\u001b[37m\u001b[0m \u001b[1m3s\u001b[0m 2ms/step - accuracy: 0.9829 - loss: 0.0541 - val_accuracy: 0.9728 - val_loss: 0.0955\n",
      "Epoch 5/10\n",
      "\u001b[1m1500/1500\u001b[0m \u001b[32m━━━━━━━━━━━━━━━━━━━━\u001b[0m\u001b[37m\u001b[0m \u001b[1m3s\u001b[0m 2ms/step - accuracy: 0.9853 - loss: 0.0451 - val_accuracy: 0.9693 - val_loss: 0.1027\n",
      "Epoch 6/10\n",
      "\u001b[1m1500/1500\u001b[0m \u001b[32m━━━━━━━━━━━━━━━━━━━━\u001b[0m\u001b[37m\u001b[0m \u001b[1m3s\u001b[0m 2ms/step - accuracy: 0.9886 - loss: 0.0348 - val_accuracy: 0.9732 - val_loss: 0.1024\n",
      "Epoch 7/10\n",
      "\u001b[1m1500/1500\u001b[0m \u001b[32m━━━━━━━━━━━━━━━━━━━━\u001b[0m\u001b[37m\u001b[0m \u001b[1m3s\u001b[0m 2ms/step - accuracy: 0.9915 - loss: 0.0281 - val_accuracy: 0.9743 - val_loss: 0.1048\n",
      "Epoch 8/10\n",
      "\u001b[1m1500/1500\u001b[0m \u001b[32m━━━━━━━━━━━━━━━━━━━━\u001b[0m\u001b[37m\u001b[0m \u001b[1m3s\u001b[0m 2ms/step - accuracy: 0.9925 - loss: 0.0244 - val_accuracy: 0.9692 - val_loss: 0.1317\n",
      "Epoch 9/10\n",
      "\u001b[1m1500/1500\u001b[0m \u001b[32m━━━━━━━━━━━━━━━━━━━━\u001b[0m\u001b[37m\u001b[0m \u001b[1m3s\u001b[0m 2ms/step - accuracy: 0.9921 - loss: 0.0226 - val_accuracy: 0.9713 - val_loss: 0.1231\n",
      "Epoch 10/10\n",
      "\u001b[1m1500/1500\u001b[0m \u001b[32m━━━━━━━━━━━━━━━━━━━━\u001b[0m\u001b[37m\u001b[0m \u001b[1m3s\u001b[0m 2ms/step - accuracy: 0.9944 - loss: 0.0178 - val_accuracy: 0.9791 - val_loss: 0.1022\n"
     ]
    }
   ],
   "source": [
    "history = model.fit(X_train, y_train,\n",
    "                    epochs=10,                  # Train for 10 epochs\n",
    "                    batch_size=32,              # Use a batch size of 32\n",
    "                    validation_split=0.2)       # Use 20% of training data for validation"
   ]
  },
  {
   "cell_type": "markdown",
   "id": "0877346a-62b8-4fb1-bad8-496083709126",
   "metadata": {},
   "source": [
    "### Save the Trained Model"
   ]
  },
  {
   "cell_type": "code",
   "execution_count": 12,
   "id": "6a3e4658-01d8-4509-b49c-baf5909e27b7",
   "metadata": {
    "tags": []
   },
   "outputs": [
    {
     "name": "stderr",
     "output_type": "stream",
     "text": [
      "WARNING:absl:You are saving your model as an HDF5 file via `model.save()` or `keras.saving.save_model(model)`. This file format is considered legacy. We recommend using instead the native Keras format, e.g. `model.save('my_model.keras')` or `keras.saving.save_model(model, 'my_model.keras')`. \n"
     ]
    },
    {
     "name": "stdout",
     "output_type": "stream",
     "text": [
      "Model saved successfully as 'my_trained_model.h5'\n"
     ]
    }
   ],
   "source": [
    "model.save(\"my_trained_model.h5\")\n",
    "print(\"Model saved successfully as 'my_trained_model.h5'\")"
   ]
  },
  {
   "cell_type": "markdown",
   "id": "36d97f7d-f787-4c56-826e-7e47fb54cc17",
   "metadata": {},
   "source": [
    "### Evaluate the Model"
   ]
  },
  {
   "cell_type": "code",
   "execution_count": 13,
   "id": "18bd5a86-62c0-4ba3-ba79-9633c00620f8",
   "metadata": {
    "tags": []
   },
   "outputs": [
    {
     "name": "stderr",
     "output_type": "stream",
     "text": [
      "2024-11-21 17:44:39.913774: W external/local_xla/xla/tsl/framework/cpu_allocator_impl.cc:83] Allocation of 31360000 exceeds 10% of free system memory.\n"
     ]
    },
    {
     "name": "stdout",
     "output_type": "stream",
     "text": [
      "Test Accuracy: 97.88%\n"
     ]
    }
   ],
   "source": [
    "test_loss, test_accuracy = model.evaluate(X_test, y_test, verbose=0)\n",
    "print(f\"Test Accuracy: {test_accuracy * 100:.2f}%\")"
   ]
  },
  {
   "cell_type": "markdown",
   "id": "d6a4bcf5-8896-4730-b264-6391e74b1f13",
   "metadata": {},
   "source": [
    "___"
   ]
  },
  {
   "cell_type": "markdown",
   "id": "5460512b-8b7b-46d2-9e63-8063cf6c97b2",
   "metadata": {},
   "source": [
    "### Instructions to Use the Model\n",
    "The model is successfully trained with the 97.88% accuracy. Now, use the Model for Your Handwritten Digits.\n",
    "After verifying the model, you can use it for your handwritten digits:\n",
    "\n",
    "- Load the saved model:\n",
    "```python\n",
    "from tensorflow.keras.models import load_model\n",
    "\n",
    "# Load the saved model\n",
    "model = load_model(\"my_trained_model.h5\")\n",
    "```\n",
    "- Preprocess your handwritten images.\n",
    "- Use the model for predictions."
   ]
  },
  {
   "cell_type": "markdown",
   "id": "2f7fc85f-b7d8-4cd4-9a6b-122d8dbc9f7e",
   "metadata": {},
   "source": [
    "__*Thank you!*__"
   ]
  }
 ],
 "metadata": {
  "kernelspec": {
   "display_name": "Python 3 (ipykernel)",
   "language": "python",
   "name": "python3"
  },
  "language_info": {
   "codemirror_mode": {
    "name": "ipython",
    "version": 3
   },
   "file_extension": ".py",
   "mimetype": "text/x-python",
   "name": "python",
   "nbconvert_exporter": "python",
   "pygments_lexer": "ipython3",
   "version": "3.11.5"
  },
  "widgets": {
   "application/vnd.jupyter.widget-state+json": {
    "state": {},
    "version_major": 2,
    "version_minor": 0
   }
  }
 },
 "nbformat": 4,
 "nbformat_minor": 5
}
